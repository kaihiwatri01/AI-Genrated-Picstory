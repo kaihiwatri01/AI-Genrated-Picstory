{
 "cells": [
  {
   "cell_type": "code",
   "execution_count": 1,
   "id": "f6a23132-b0f2-4d7e-8d31-6d04738c2dae",
   "metadata": {},
   "outputs": [
    {
     "name": "stdout",
     "output_type": "stream",
     "text": [
      "Defaulting to user installation because normal site-packages is not writeable\n",
      "Requirement already satisfied: SpeechRecognition in c:\\users\\adarsh kumar\\appdata\\roaming\\python\\python312\\site-packages (3.14.1)\n",
      "Requirement already satisfied: typing-extensions in c:\\anaconda prompt\\lib\\site-packages (from SpeechRecognition) (4.11.0)\n"
     ]
    }
   ],
   "source": [
    "!pip install SpeechRecognition\n"
   ]
  },
  {
   "cell_type": "code",
   "execution_count": 2,
   "id": "ed4370dc-629f-4c4f-98a8-d62e6b5db689",
   "metadata": {},
   "outputs": [
    {
     "name": "stdout",
     "output_type": "stream",
     "text": [
      "Defaulting to user installation because normal site-packages is not writeable\n",
      "Requirement already satisfied: opencv-python in c:\\users\\adarsh kumar\\appdata\\roaming\\python\\python312\\site-packages (4.11.0.86)\n",
      "Requirement already satisfied: numpy>=1.21.2 in c:\\anaconda prompt\\lib\\site-packages (from opencv-python) (1.26.4)\n"
     ]
    }
   ],
   "source": [
    "!pip install opencv-python\n"
   ]
  },
  {
   "cell_type": "code",
   "execution_count": 3,
   "id": "ccc70e75-2c83-4d0e-adb4-0b47a1c44241",
   "metadata": {},
   "outputs": [
    {
     "name": "stdout",
     "output_type": "stream",
     "text": [
      "Defaulting to user installation because normal site-packages is not writeable\n",
      "Requirement already satisfied: pytesseract in c:\\users\\adarsh kumar\\appdata\\roaming\\python\\python312\\site-packages (0.3.13)\n",
      "Requirement already satisfied: packaging>=21.3 in c:\\anaconda prompt\\lib\\site-packages (from pytesseract) (24.1)\n",
      "Requirement already satisfied: Pillow>=8.0.0 in c:\\anaconda prompt\\lib\\site-packages (from pytesseract) (10.4.0)\n"
     ]
    }
   ],
   "source": [
    "!pip install pytesseract\n"
   ]
  },
  {
   "cell_type": "code",
   "execution_count": 4,
   "id": "5d314412-fdbd-4676-a823-e4dde925963d",
   "metadata": {},
   "outputs": [
    {
     "name": "stdout",
     "output_type": "stream",
     "text": [
      "Defaulting to user installation because normal site-packages is not writeable\n",
      "Requirement already satisfied: gtts in c:\\users\\adarsh kumar\\appdata\\roaming\\python\\python312\\site-packages (2.5.4)\n",
      "Requirement already satisfied: requests<3,>=2.27 in c:\\anaconda prompt\\lib\\site-packages (from gtts) (2.32.3)\n",
      "Requirement already satisfied: click<8.2,>=7.1 in c:\\anaconda prompt\\lib\\site-packages (from gtts) (8.1.7)\n",
      "Requirement already satisfied: colorama in c:\\anaconda prompt\\lib\\site-packages (from click<8.2,>=7.1->gtts) (0.4.6)\n",
      "Requirement already satisfied: charset-normalizer<4,>=2 in c:\\anaconda prompt\\lib\\site-packages (from requests<3,>=2.27->gtts) (3.3.2)\n",
      "Requirement already satisfied: idna<4,>=2.5 in c:\\anaconda prompt\\lib\\site-packages (from requests<3,>=2.27->gtts) (3.7)\n",
      "Requirement already satisfied: urllib3<3,>=1.21.1 in c:\\anaconda prompt\\lib\\site-packages (from requests<3,>=2.27->gtts) (2.2.3)\n",
      "Requirement already satisfied: certifi>=2017.4.17 in c:\\anaconda prompt\\lib\\site-packages (from requests<3,>=2.27->gtts) (2025.1.31)\n"
     ]
    }
   ],
   "source": [
    "!pip install gtts\n"
   ]
  },
  {
   "cell_type": "code",
   "execution_count": 5,
   "id": "575866af-2820-48fd-95a3-d2b93d4662e3",
   "metadata": {},
   "outputs": [
    {
     "name": "stdout",
     "output_type": "stream",
     "text": [
      "Defaulting to user installation because normal site-packages is not writeable\n",
      "Requirement already satisfied: moviepy in c:\\users\\adarsh kumar\\appdata\\roaming\\python\\python312\\site-packages (2.1.2)\n",
      "Requirement already satisfied: decorator<6.0,>=4.0.2 in c:\\anaconda prompt\\lib\\site-packages (from moviepy) (5.1.1)\n",
      "Requirement already satisfied: imageio<3.0,>=2.5 in c:\\anaconda prompt\\lib\\site-packages (from moviepy) (2.33.1)\n",
      "Requirement already satisfied: imageio_ffmpeg>=0.2.0 in c:\\users\\adarsh kumar\\appdata\\roaming\\python\\python312\\site-packages (from moviepy) (0.6.0)\n",
      "Requirement already satisfied: numpy>=1.25.0 in c:\\anaconda prompt\\lib\\site-packages (from moviepy) (1.26.4)\n",
      "Requirement already satisfied: proglog<=1.0.0 in c:\\users\\adarsh kumar\\appdata\\roaming\\python\\python312\\site-packages (from moviepy) (0.1.10)\n",
      "Requirement already satisfied: python-dotenv>=0.10 in c:\\anaconda prompt\\lib\\site-packages (from moviepy) (0.21.0)\n",
      "Requirement already satisfied: pillow<11.0,>=9.2.0 in c:\\anaconda prompt\\lib\\site-packages (from moviepy) (10.4.0)\n",
      "Requirement already satisfied: tqdm in c:\\anaconda prompt\\lib\\site-packages (from proglog<=1.0.0->moviepy) (4.66.5)\n",
      "Requirement already satisfied: colorama in c:\\anaconda prompt\\lib\\site-packages (from tqdm->proglog<=1.0.0->moviepy) (0.4.6)\n"
     ]
    }
   ],
   "source": [
    "!pip install moviepy\n"
   ]
  },
  {
   "cell_type": "code",
   "execution_count": 6,
   "id": "634eb5e8-587d-4351-afea-64f612fd594b",
   "metadata": {},
   "outputs": [
    {
     "name": "stdout",
     "output_type": "stream",
     "text": [
      "Found existing installation: moviepy 2.1.2\n",
      "Uninstalling moviepy-2.1.2:\n",
      "  Successfully uninstalled moviepy-2.1.2\n",
      "Defaulting to user installation because normal site-packages is not writeable\n",
      "Collecting moviepy\n",
      "  Using cached moviepy-2.1.2-py3-none-any.whl.metadata (6.9 kB)\n",
      "Requirement already satisfied: decorator<6.0,>=4.0.2 in c:\\anaconda prompt\\lib\\site-packages (from moviepy) (5.1.1)\n",
      "Requirement already satisfied: imageio<3.0,>=2.5 in c:\\anaconda prompt\\lib\\site-packages (from moviepy) (2.33.1)\n",
      "Requirement already satisfied: imageio_ffmpeg>=0.2.0 in c:\\users\\adarsh kumar\\appdata\\roaming\\python\\python312\\site-packages (from moviepy) (0.6.0)\n",
      "Requirement already satisfied: numpy>=1.25.0 in c:\\anaconda prompt\\lib\\site-packages (from moviepy) (1.26.4)\n",
      "Requirement already satisfied: proglog<=1.0.0 in c:\\users\\adarsh kumar\\appdata\\roaming\\python\\python312\\site-packages (from moviepy) (0.1.10)\n",
      "Requirement already satisfied: python-dotenv>=0.10 in c:\\anaconda prompt\\lib\\site-packages (from moviepy) (0.21.0)\n",
      "Requirement already satisfied: pillow<11.0,>=9.2.0 in c:\\anaconda prompt\\lib\\site-packages (from moviepy) (10.4.0)\n",
      "Requirement already satisfied: tqdm in c:\\anaconda prompt\\lib\\site-packages (from proglog<=1.0.0->moviepy) (4.66.5)\n",
      "Requirement already satisfied: colorama in c:\\anaconda prompt\\lib\\site-packages (from tqdm->proglog<=1.0.0->moviepy) (0.4.6)\n",
      "Using cached moviepy-2.1.2-py3-none-any.whl (126 kB)\n",
      "Installing collected packages: moviepy\n",
      "Successfully installed moviepy-2.1.2\n"
     ]
    }
   ],
   "source": [
    "!pip uninstall moviepy -y\n",
    "!pip install moviepy\n"
   ]
  },
  {
   "cell_type": "code",
   "execution_count": null,
   "id": "673e94a7-0fbd-4f32-97af-f43c94466498",
   "metadata": {},
   "outputs": [],
   "source": []
  },
  {
   "cell_type": "code",
   "execution_count": 7,
   "id": "2d55b7ef-392a-4b53-96bd-8ea3d55b8150",
   "metadata": {},
   "outputs": [
    {
     "name": "stdout",
     "output_type": "stream",
     "text": [
      "Found existing installation: moviepy 2.1.2\n",
      "Uninstalling moviepy-2.1.2:\n",
      "  Successfully uninstalled moviepy-2.1.2\n"
     ]
    }
   ],
   "source": [
    "!pip uninstall moviepy -y\n"
   ]
  },
  {
   "cell_type": "code",
   "execution_count": 8,
   "id": "9d9fd4e9-72a4-4657-97d4-ab0d199cced7",
   "metadata": {},
   "outputs": [
    {
     "name": "stdout",
     "output_type": "stream",
     "text": [
      "Defaulting to user installation because normal site-packages is not writeable\n",
      "Collecting moviepy\n",
      "  Using cached moviepy-2.1.2-py3-none-any.whl.metadata (6.9 kB)\n",
      "Requirement already satisfied: decorator<6.0,>=4.0.2 in c:\\anaconda prompt\\lib\\site-packages (from moviepy) (5.1.1)\n",
      "Requirement already satisfied: imageio<3.0,>=2.5 in c:\\anaconda prompt\\lib\\site-packages (from moviepy) (2.33.1)\n",
      "Requirement already satisfied: imageio_ffmpeg>=0.2.0 in c:\\users\\adarsh kumar\\appdata\\roaming\\python\\python312\\site-packages (from moviepy) (0.6.0)\n",
      "Requirement already satisfied: numpy>=1.25.0 in c:\\anaconda prompt\\lib\\site-packages (from moviepy) (1.26.4)\n",
      "Requirement already satisfied: proglog<=1.0.0 in c:\\users\\adarsh kumar\\appdata\\roaming\\python\\python312\\site-packages (from moviepy) (0.1.10)\n",
      "Requirement already satisfied: python-dotenv>=0.10 in c:\\anaconda prompt\\lib\\site-packages (from moviepy) (0.21.0)\n",
      "Requirement already satisfied: pillow<11.0,>=9.2.0 in c:\\anaconda prompt\\lib\\site-packages (from moviepy) (10.4.0)\n",
      "Requirement already satisfied: tqdm in c:\\anaconda prompt\\lib\\site-packages (from proglog<=1.0.0->moviepy) (4.66.5)\n",
      "Requirement already satisfied: colorama in c:\\anaconda prompt\\lib\\site-packages (from tqdm->proglog<=1.0.0->moviepy) (0.4.6)\n",
      "Using cached moviepy-2.1.2-py3-none-any.whl (126 kB)\n",
      "Installing collected packages: moviepy\n",
      "Successfully installed moviepy-2.1.2\n"
     ]
    }
   ],
   "source": [
    "!pip install moviepy\n",
    "\n"
   ]
  },
  {
   "cell_type": "code",
   "execution_count": 9,
   "id": "82accec3-054d-45a5-8151-5c67f5d9c8a8",
   "metadata": {},
   "outputs": [
    {
     "name": "stdout",
     "output_type": "stream",
     "text": [
      "Defaulting to user installation because normal site-packages is not writeable\n",
      "Requirement already satisfied: PyPDF2 in c:\\users\\adarsh kumar\\appdata\\roaming\\python\\python312\\site-packages (3.0.1)\n"
     ]
    }
   ],
   "source": [
    "!pip install PyPDF2\n"
   ]
  },
  {
   "cell_type": "code",
   "execution_count": 6,
   "id": "686783a5-b0c7-4d37-9fe4-b45724b0342f",
   "metadata": {},
   "outputs": [
    {
     "name": "stdout",
     "output_type": "stream",
     "text": [
      "Defaulting to user installation because normal site-packages is not writeable\n",
      "Requirement already satisfied: moviepy in c:\\users\\adarsh kumar\\appdata\\roaming\\python\\python312\\site-packages (2.1.2)\n",
      "Requirement already satisfied: decorator<6.0,>=4.0.2 in c:\\anaconda prompt\\lib\\site-packages (from moviepy) (5.1.1)\n",
      "Requirement already satisfied: imageio<3.0,>=2.5 in c:\\anaconda prompt\\lib\\site-packages (from moviepy) (2.33.1)\n",
      "Requirement already satisfied: imageio_ffmpeg>=0.2.0 in c:\\users\\adarsh kumar\\appdata\\roaming\\python\\python312\\site-packages (from moviepy) (0.6.0)\n",
      "Requirement already satisfied: numpy>=1.25.0 in c:\\anaconda prompt\\lib\\site-packages (from moviepy) (1.26.4)\n",
      "Requirement already satisfied: proglog<=1.0.0 in c:\\users\\adarsh kumar\\appdata\\roaming\\python\\python312\\site-packages (from moviepy) (0.1.10)\n",
      "Requirement already satisfied: python-dotenv>=0.10 in c:\\anaconda prompt\\lib\\site-packages (from moviepy) (0.21.0)\n",
      "Requirement already satisfied: pillow<11.0,>=9.2.0 in c:\\anaconda prompt\\lib\\site-packages (from moviepy) (10.4.0)\n",
      "Requirement already satisfied: tqdm in c:\\anaconda prompt\\lib\\site-packages (from proglog<=1.0.0->moviepy) (4.66.5)\n",
      "Requirement already satisfied: colorama in c:\\anaconda prompt\\lib\\site-packages (from tqdm->proglog<=1.0.0->moviepy) (0.4.6)\n"
     ]
    }
   ],
   "source": [
    "!pip install moviepy"
   ]
  },
  {
   "cell_type": "code",
   "execution_count": 2,
   "id": "7f0e7c5b-d4eb-4311-93c9-efb63cc197bd",
   "metadata": {},
   "outputs": [
    {
     "name": "stdout",
     "output_type": "stream",
     "text": [
      "Defaulting to user installation because normal site-packages is not writeable\n",
      "Requirement already satisfied: reverie-sdk in c:\\users\\adarsh kumar\\appdata\\roaming\\python\\python312\\site-packages (0.0.5.6)\n",
      "Requirement already satisfied: backports.tarfile in c:\\users\\adarsh kumar\\appdata\\roaming\\python\\python312\\site-packages (from reverie-sdk) (1.2.0)\n",
      "Requirement already satisfied: black in c:\\anaconda prompt\\lib\\site-packages (from reverie-sdk) (24.8.0)\n",
      "Requirement already satisfied: dotenv in c:\\users\\adarsh kumar\\appdata\\roaming\\python\\python312\\site-packages (from reverie-sdk) (0.9.9)\n",
      "Requirement already satisfied: ffmpeg in c:\\users\\adarsh kumar\\appdata\\roaming\\python\\python312\\site-packages (from reverie-sdk) (1.4)\n",
      "Requirement already satisfied: importlib-metadata in c:\\anaconda prompt\\lib\\site-packages (from reverie-sdk) (7.0.1)\n",
      "Requirement already satisfied: inflect in c:\\users\\adarsh kumar\\appdata\\roaming\\python\\python312\\site-packages (from reverie-sdk) (7.5.0)\n",
      "Requirement already satisfied: jaraco.collections in c:\\users\\adarsh kumar\\appdata\\roaming\\python\\python312\\site-packages (from reverie-sdk) (5.1.0)\n",
      "Requirement already satisfied: nox in c:\\users\\adarsh kumar\\appdata\\roaming\\python\\python312\\site-packages (from reverie-sdk) (2025.2.9)\n",
      "Requirement already satisfied: pandas in c:\\anaconda prompt\\lib\\site-packages (from reverie-sdk) (2.2.2)\n",
      "Requirement already satisfied: pkginfo in c:\\anaconda prompt\\lib\\site-packages (from reverie-sdk) (1.10.0)\n",
      "Requirement already satisfied: pydub in c:\\users\\adarsh kumar\\appdata\\roaming\\python\\python312\\site-packages (from reverie-sdk) (0.25.1)\n",
      "Requirement already satisfied: pyopenssl in c:\\anaconda prompt\\lib\\site-packages (from reverie-sdk) (24.2.1)\n",
      "Requirement already satisfied: soundfile in c:\\users\\adarsh kumar\\appdata\\roaming\\python\\python312\\site-packages (from reverie-sdk) (0.13.1)\n",
      "Requirement already satisfied: stream2sentence in c:\\users\\adarsh kumar\\appdata\\roaming\\python\\python312\\site-packages (from reverie-sdk) (0.3.0)\n",
      "Requirement already satisfied: tomli in c:\\anaconda prompt\\lib\\site-packages (from reverie-sdk) (2.0.1)\n",
      "Requirement already satisfied: websocket-client in c:\\anaconda prompt\\lib\\site-packages (from reverie-sdk) (1.8.0)\n",
      "Requirement already satisfied: websockets in c:\\users\\adarsh kumar\\appdata\\roaming\\python\\python312\\site-packages (from reverie-sdk) (15.0.1)\n",
      "Requirement already satisfied: click>=8.0.0 in c:\\anaconda prompt\\lib\\site-packages (from black->reverie-sdk) (8.1.7)\n",
      "Requirement already satisfied: mypy-extensions>=0.4.3 in c:\\anaconda prompt\\lib\\site-packages (from black->reverie-sdk) (1.0.0)\n",
      "Requirement already satisfied: packaging>=22.0 in c:\\anaconda prompt\\lib\\site-packages (from black->reverie-sdk) (24.1)\n",
      "Requirement already satisfied: pathspec>=0.9.0 in c:\\anaconda prompt\\lib\\site-packages (from black->reverie-sdk) (0.10.3)\n",
      "Requirement already satisfied: platformdirs>=2 in c:\\anaconda prompt\\lib\\site-packages (from black->reverie-sdk) (3.10.0)\n",
      "Requirement already satisfied: python-dotenv in c:\\anaconda prompt\\lib\\site-packages (from dotenv->reverie-sdk) (0.21.0)\n",
      "Requirement already satisfied: zipp>=0.5 in c:\\anaconda prompt\\lib\\site-packages (from importlib-metadata->reverie-sdk) (3.17.0)\n",
      "Requirement already satisfied: more_itertools>=8.5.0 in c:\\anaconda prompt\\lib\\site-packages (from inflect->reverie-sdk) (10.3.0)\n",
      "Requirement already satisfied: typeguard>=4.0.1 in c:\\users\\adarsh kumar\\appdata\\roaming\\python\\python312\\site-packages (from inflect->reverie-sdk) (4.4.2)\n",
      "Requirement already satisfied: jaraco.text in c:\\users\\adarsh kumar\\appdata\\roaming\\python\\python312\\site-packages (from jaraco.collections->reverie-sdk) (4.0.0)\n",
      "Requirement already satisfied: argcomplete<4,>=1.9.4 in c:\\users\\adarsh kumar\\appdata\\roaming\\python\\python312\\site-packages (from nox->reverie-sdk) (3.6.1)\n",
      "Requirement already satisfied: attrs>=23.1 in c:\\anaconda prompt\\lib\\site-packages (from nox->reverie-sdk) (23.1.0)\n",
      "Requirement already satisfied: colorlog<7,>=2.6.1 in c:\\users\\adarsh kumar\\appdata\\roaming\\python\\python312\\site-packages (from nox->reverie-sdk) (6.9.0)\n",
      "Requirement already satisfied: dependency-groups>=1.1 in c:\\users\\adarsh kumar\\appdata\\roaming\\python\\python312\\site-packages (from nox->reverie-sdk) (1.3.0)\n",
      "Requirement already satisfied: virtualenv>=20.14.1 in c:\\users\\adarsh kumar\\appdata\\roaming\\python\\python312\\site-packages (from nox->reverie-sdk) (20.29.3)\n",
      "Requirement already satisfied: numpy>=1.26.0 in c:\\anaconda prompt\\lib\\site-packages (from pandas->reverie-sdk) (1.26.4)\n",
      "Requirement already satisfied: python-dateutil>=2.8.2 in c:\\anaconda prompt\\lib\\site-packages (from pandas->reverie-sdk) (2.9.0.post0)\n",
      "Requirement already satisfied: pytz>=2020.1 in c:\\anaconda prompt\\lib\\site-packages (from pandas->reverie-sdk) (2024.1)\n",
      "Requirement already satisfied: tzdata>=2022.7 in c:\\anaconda prompt\\lib\\site-packages (from pandas->reverie-sdk) (2023.3)\n",
      "Requirement already satisfied: cryptography<44,>=41.0.5 in c:\\anaconda prompt\\lib\\site-packages (from pyopenssl->reverie-sdk) (43.0.0)\n",
      "Requirement already satisfied: cffi>=1.0 in c:\\anaconda prompt\\lib\\site-packages (from soundfile->reverie-sdk) (1.17.1)\n",
      "Requirement already satisfied: nltk==3.9.1 in c:\\anaconda prompt\\lib\\site-packages (from stream2sentence->reverie-sdk) (3.9.1)\n",
      "Requirement already satisfied: emoji==2.14.0 in c:\\users\\adarsh kumar\\appdata\\roaming\\python\\python312\\site-packages (from stream2sentence->reverie-sdk) (2.14.0)\n",
      "Requirement already satisfied: stanza==1.9.2 in c:\\users\\adarsh kumar\\appdata\\roaming\\python\\python312\\site-packages (from stream2sentence->reverie-sdk) (1.9.2)\n",
      "Requirement already satisfied: joblib in c:\\anaconda prompt\\lib\\site-packages (from nltk==3.9.1->stream2sentence->reverie-sdk) (1.4.2)\n",
      "Requirement already satisfied: regex>=2021.8.3 in c:\\anaconda prompt\\lib\\site-packages (from nltk==3.9.1->stream2sentence->reverie-sdk) (2024.9.11)\n",
      "Requirement already satisfied: tqdm in c:\\anaconda prompt\\lib\\site-packages (from nltk==3.9.1->stream2sentence->reverie-sdk) (4.66.5)\n",
      "Requirement already satisfied: protobuf>=3.15.0 in c:\\users\\adarsh kumar\\appdata\\roaming\\python\\python312\\site-packages (from stanza==1.9.2->stream2sentence->reverie-sdk) (5.29.3)\n",
      "Requirement already satisfied: requests in c:\\anaconda prompt\\lib\\site-packages (from stanza==1.9.2->stream2sentence->reverie-sdk) (2.32.3)\n",
      "Requirement already satisfied: networkx in c:\\anaconda prompt\\lib\\site-packages (from stanza==1.9.2->stream2sentence->reverie-sdk) (3.3)\n",
      "Requirement already satisfied: torch>=1.3.0 in c:\\users\\adarsh kumar\\appdata\\roaming\\python\\python312\\site-packages (from stanza==1.9.2->stream2sentence->reverie-sdk) (2.6.0)\n",
      "Requirement already satisfied: pycparser in c:\\anaconda prompt\\lib\\site-packages (from cffi>=1.0->soundfile->reverie-sdk) (2.21)\n",
      "Requirement already satisfied: colorama in c:\\anaconda prompt\\lib\\site-packages (from click>=8.0.0->black->reverie-sdk) (0.4.6)\n",
      "Requirement already satisfied: six>=1.5 in c:\\anaconda prompt\\lib\\site-packages (from python-dateutil>=2.8.2->pandas->reverie-sdk) (1.16.0)\n",
      "Requirement already satisfied: typing_extensions>=4.10.0 in c:\\anaconda prompt\\lib\\site-packages (from typeguard>=4.0.1->inflect->reverie-sdk) (4.11.0)\n",
      "Requirement already satisfied: distlib<1,>=0.3.7 in c:\\users\\adarsh kumar\\appdata\\roaming\\python\\python312\\site-packages (from virtualenv>=20.14.1->nox->reverie-sdk) (0.3.9)\n",
      "Requirement already satisfied: filelock<4,>=3.12.2 in c:\\anaconda prompt\\lib\\site-packages (from virtualenv>=20.14.1->nox->reverie-sdk) (3.13.1)\n",
      "Requirement already satisfied: jaraco.functools in c:\\users\\adarsh kumar\\appdata\\roaming\\python\\python312\\site-packages (from jaraco.text->jaraco.collections->reverie-sdk) (4.1.0)\n",
      "Requirement already satisfied: jaraco.context>=4.1 in c:\\users\\adarsh kumar\\appdata\\roaming\\python\\python312\\site-packages (from jaraco.text->jaraco.collections->reverie-sdk) (6.0.1)\n",
      "Requirement already satisfied: autocommand in c:\\users\\adarsh kumar\\appdata\\roaming\\python\\python312\\site-packages (from jaraco.text->jaraco.collections->reverie-sdk) (2.2.2)\n",
      "Requirement already satisfied: jinja2 in c:\\anaconda prompt\\lib\\site-packages (from torch>=1.3.0->stanza==1.9.2->stream2sentence->reverie-sdk) (3.1.4)\n",
      "Requirement already satisfied: fsspec in c:\\anaconda prompt\\lib\\site-packages (from torch>=1.3.0->stanza==1.9.2->stream2sentence->reverie-sdk) (2024.6.1)\n",
      "Requirement already satisfied: setuptools in c:\\anaconda prompt\\lib\\site-packages (from torch>=1.3.0->stanza==1.9.2->stream2sentence->reverie-sdk) (75.1.0)\n",
      "Requirement already satisfied: sympy==1.13.1 in c:\\users\\adarsh kumar\\appdata\\roaming\\python\\python312\\site-packages (from torch>=1.3.0->stanza==1.9.2->stream2sentence->reverie-sdk) (1.13.1)\n",
      "Requirement already satisfied: mpmath<1.4,>=1.1.0 in c:\\anaconda prompt\\lib\\site-packages (from sympy==1.13.1->torch>=1.3.0->stanza==1.9.2->stream2sentence->reverie-sdk) (1.3.0)\n",
      "Requirement already satisfied: charset-normalizer<4,>=2 in c:\\anaconda prompt\\lib\\site-packages (from requests->stanza==1.9.2->stream2sentence->reverie-sdk) (3.3.2)\n",
      "Requirement already satisfied: idna<4,>=2.5 in c:\\anaconda prompt\\lib\\site-packages (from requests->stanza==1.9.2->stream2sentence->reverie-sdk) (3.7)\n",
      "Requirement already satisfied: urllib3<3,>=1.21.1 in c:\\anaconda prompt\\lib\\site-packages (from requests->stanza==1.9.2->stream2sentence->reverie-sdk) (2.2.3)\n",
      "Requirement already satisfied: certifi>=2017.4.17 in c:\\anaconda prompt\\lib\\site-packages (from requests->stanza==1.9.2->stream2sentence->reverie-sdk) (2025.1.31)\n",
      "Requirement already satisfied: MarkupSafe>=2.0 in c:\\anaconda prompt\\lib\\site-packages (from jinja2->torch>=1.3.0->stanza==1.9.2->stream2sentence->reverie-sdk) (2.1.3)\n"
     ]
    }
   ],
   "source": [
    "!pip install reverie-sdk\n"
   ]
  },
  {
   "cell_type": "code",
   "execution_count": 2,
   "id": "1580fdf5-4758-43b3-995e-1b150f7c4917",
   "metadata": {},
   "outputs": [
    {
     "name": "stdout",
     "output_type": "stream",
     "text": [
      "Defaulting to user installation because normal site-packages is not writeable\n",
      "Collecting sounddevice\n",
      "  Downloading sounddevice-0.5.1-py3-none-win_amd64.whl.metadata (1.4 kB)\n",
      "Requirement already satisfied: CFFI>=1.0 in c:\\anaconda prompt\\lib\\site-packages (from sounddevice) (1.17.1)\n",
      "Requirement already satisfied: pycparser in c:\\anaconda prompt\\lib\\site-packages (from CFFI>=1.0->sounddevice) (2.21)\n",
      "Downloading sounddevice-0.5.1-py3-none-win_amd64.whl (363 kB)\n",
      "Installing collected packages: sounddevice\n",
      "Successfully installed sounddevice-0.5.1\n"
     ]
    }
   ],
   "source": [
    "\n",
    "!pip install sounddevice\n"
   ]
  },
  {
   "cell_type": "code",
   "execution_count": 4,
   "id": "d316c2cd-7ff7-4432-a16d-1b747e924e7e",
   "metadata": {},
   "outputs": [
    {
     "name": "stdout",
     "output_type": "stream",
     "text": [
      "Defaulting to user installation because normal site-packages is not writeable\n",
      "Collecting wavio\n",
      "  Downloading wavio-0.0.9-py3-none-any.whl.metadata (5.7 kB)\n",
      "Requirement already satisfied: numpy>=1.19.0 in c:\\anaconda prompt\\lib\\site-packages (from wavio) (1.26.4)\n",
      "Downloading wavio-0.0.9-py3-none-any.whl (9.5 kB)\n",
      "Installing collected packages: wavio\n",
      "Successfully installed wavio-0.0.9\n"
     ]
    }
   ],
   "source": [
    "!pip install wavio\n"
   ]
  },
  {
   "cell_type": "code",
   "execution_count": 2,
   "id": "8aa58c45-7871-4bc1-9df7-a0433264e2b3",
   "metadata": {},
   "outputs": [
    {
     "name": "stdout",
     "output_type": "stream",
     "text": [
      "Defaulting to user installation because normal site-packages is not writeable\n",
      "Collecting pyaudio\n",
      "  Downloading PyAudio-0.2.14-cp312-cp312-win_amd64.whl.metadata (2.7 kB)\n",
      "Downloading PyAudio-0.2.14-cp312-cp312-win_amd64.whl (164 kB)\n",
      "Installing collected packages: pyaudio\n",
      "Successfully installed pyaudio-0.2.14\n"
     ]
    }
   ],
   "source": [
    "!pip install pyaudio\n"
   ]
  },
  {
   "cell_type": "code",
   "execution_count": 4,
   "id": "293e3ac9-01a7-4b1c-b520-6beb57a93367",
   "metadata": {},
   "outputs": [
    {
     "name": "stdout",
     "output_type": "stream",
     "text": [
      "Defaulting to user installation because normal site-packages is not writeable\n",
      "Collecting google-cloud-speech\n",
      "  Downloading google_cloud_speech-2.31.1-py3-none-any.whl.metadata (9.5 kB)\n",
      "Requirement already satisfied: google-api-core!=2.0.*,!=2.1.*,!=2.10.*,!=2.2.*,!=2.3.*,!=2.4.*,!=2.5.*,!=2.6.*,!=2.7.*,!=2.8.*,!=2.9.*,<3.0.0,>=1.34.1 in c:\\users\\adarsh kumar\\appdata\\roaming\\python\\python312\\site-packages (from google-api-core[grpc]!=2.0.*,!=2.1.*,!=2.10.*,!=2.2.*,!=2.3.*,!=2.4.*,!=2.5.*,!=2.6.*,!=2.7.*,!=2.8.*,!=2.9.*,<3.0.0,>=1.34.1->google-cloud-speech) (2.24.1)\n",
      "Requirement already satisfied: google-auth!=2.24.0,!=2.25.0,<3.0.0,>=2.14.1 in c:\\users\\adarsh kumar\\appdata\\roaming\\python\\python312\\site-packages (from google-cloud-speech) (2.38.0)\n",
      "Requirement already satisfied: proto-plus<2.0.0,>=1.22.3 in c:\\users\\adarsh kumar\\appdata\\roaming\\python\\python312\\site-packages (from google-cloud-speech) (1.26.0)\n",
      "Requirement already satisfied: protobuf!=4.21.0,!=4.21.1,!=4.21.2,!=4.21.3,!=4.21.4,!=4.21.5,<7.0.0,>=3.20.2 in c:\\users\\adarsh kumar\\appdata\\roaming\\python\\python312\\site-packages (from google-cloud-speech) (5.29.3)\n",
      "Requirement already satisfied: googleapis-common-protos<2.0.dev0,>=1.56.2 in c:\\users\\adarsh kumar\\appdata\\roaming\\python\\python312\\site-packages (from google-api-core!=2.0.*,!=2.1.*,!=2.10.*,!=2.2.*,!=2.3.*,!=2.4.*,!=2.5.*,!=2.6.*,!=2.7.*,!=2.8.*,!=2.9.*,<3.0.0,>=1.34.1->google-api-core[grpc]!=2.0.*,!=2.1.*,!=2.10.*,!=2.2.*,!=2.3.*,!=2.4.*,!=2.5.*,!=2.6.*,!=2.7.*,!=2.8.*,!=2.9.*,<3.0.0,>=1.34.1->google-cloud-speech) (1.69.0)\n",
      "Requirement already satisfied: requests<3.0.0.dev0,>=2.18.0 in c:\\anaconda prompt\\lib\\site-packages (from google-api-core!=2.0.*,!=2.1.*,!=2.10.*,!=2.2.*,!=2.3.*,!=2.4.*,!=2.5.*,!=2.6.*,!=2.7.*,!=2.8.*,!=2.9.*,<3.0.0,>=1.34.1->google-api-core[grpc]!=2.0.*,!=2.1.*,!=2.10.*,!=2.2.*,!=2.3.*,!=2.4.*,!=2.5.*,!=2.6.*,!=2.7.*,!=2.8.*,!=2.9.*,<3.0.0,>=1.34.1->google-cloud-speech) (2.32.3)\n",
      "Requirement already satisfied: grpcio<2.0dev,>=1.33.2 in c:\\users\\adarsh kumar\\appdata\\roaming\\python\\python312\\site-packages (from google-api-core[grpc]!=2.0.*,!=2.1.*,!=2.10.*,!=2.2.*,!=2.3.*,!=2.4.*,!=2.5.*,!=2.6.*,!=2.7.*,!=2.8.*,!=2.9.*,<3.0.0,>=1.34.1->google-cloud-speech) (1.70.0)\n",
      "Requirement already satisfied: grpcio-status<2.0.dev0,>=1.33.2 in c:\\users\\adarsh kumar\\appdata\\roaming\\python\\python312\\site-packages (from google-api-core[grpc]!=2.0.*,!=2.1.*,!=2.10.*,!=2.2.*,!=2.3.*,!=2.4.*,!=2.5.*,!=2.6.*,!=2.7.*,!=2.8.*,!=2.9.*,<3.0.0,>=1.34.1->google-cloud-speech) (1.70.0)\n",
      "Requirement already satisfied: cachetools<6.0,>=2.0.0 in c:\\anaconda prompt\\lib\\site-packages (from google-auth!=2.24.0,!=2.25.0,<3.0.0,>=2.14.1->google-cloud-speech) (5.3.3)\n",
      "Requirement already satisfied: pyasn1-modules>=0.2.1 in c:\\anaconda prompt\\lib\\site-packages (from google-auth!=2.24.0,!=2.25.0,<3.0.0,>=2.14.1->google-cloud-speech) (0.2.8)\n",
      "Requirement already satisfied: rsa<5,>=3.1.4 in c:\\users\\adarsh kumar\\appdata\\roaming\\python\\python312\\site-packages (from google-auth!=2.24.0,!=2.25.0,<3.0.0,>=2.14.1->google-cloud-speech) (4.9)\n",
      "Requirement already satisfied: pyasn1<0.5.0,>=0.4.6 in c:\\anaconda prompt\\lib\\site-packages (from pyasn1-modules>=0.2.1->google-auth!=2.24.0,!=2.25.0,<3.0.0,>=2.14.1->google-cloud-speech) (0.4.8)\n",
      "Requirement already satisfied: charset-normalizer<4,>=2 in c:\\anaconda prompt\\lib\\site-packages (from requests<3.0.0.dev0,>=2.18.0->google-api-core!=2.0.*,!=2.1.*,!=2.10.*,!=2.2.*,!=2.3.*,!=2.4.*,!=2.5.*,!=2.6.*,!=2.7.*,!=2.8.*,!=2.9.*,<3.0.0,>=1.34.1->google-api-core[grpc]!=2.0.*,!=2.1.*,!=2.10.*,!=2.2.*,!=2.3.*,!=2.4.*,!=2.5.*,!=2.6.*,!=2.7.*,!=2.8.*,!=2.9.*,<3.0.0,>=1.34.1->google-cloud-speech) (3.3.2)\n",
      "Requirement already satisfied: idna<4,>=2.5 in c:\\anaconda prompt\\lib\\site-packages (from requests<3.0.0.dev0,>=2.18.0->google-api-core!=2.0.*,!=2.1.*,!=2.10.*,!=2.2.*,!=2.3.*,!=2.4.*,!=2.5.*,!=2.6.*,!=2.7.*,!=2.8.*,!=2.9.*,<3.0.0,>=1.34.1->google-api-core[grpc]!=2.0.*,!=2.1.*,!=2.10.*,!=2.2.*,!=2.3.*,!=2.4.*,!=2.5.*,!=2.6.*,!=2.7.*,!=2.8.*,!=2.9.*,<3.0.0,>=1.34.1->google-cloud-speech) (3.7)\n",
      "Requirement already satisfied: urllib3<3,>=1.21.1 in c:\\anaconda prompt\\lib\\site-packages (from requests<3.0.0.dev0,>=2.18.0->google-api-core!=2.0.*,!=2.1.*,!=2.10.*,!=2.2.*,!=2.3.*,!=2.4.*,!=2.5.*,!=2.6.*,!=2.7.*,!=2.8.*,!=2.9.*,<3.0.0,>=1.34.1->google-api-core[grpc]!=2.0.*,!=2.1.*,!=2.10.*,!=2.2.*,!=2.3.*,!=2.4.*,!=2.5.*,!=2.6.*,!=2.7.*,!=2.8.*,!=2.9.*,<3.0.0,>=1.34.1->google-cloud-speech) (2.2.3)\n",
      "Requirement already satisfied: certifi>=2017.4.17 in c:\\anaconda prompt\\lib\\site-packages (from requests<3.0.0.dev0,>=2.18.0->google-api-core!=2.0.*,!=2.1.*,!=2.10.*,!=2.2.*,!=2.3.*,!=2.4.*,!=2.5.*,!=2.6.*,!=2.7.*,!=2.8.*,!=2.9.*,<3.0.0,>=1.34.1->google-api-core[grpc]!=2.0.*,!=2.1.*,!=2.10.*,!=2.2.*,!=2.3.*,!=2.4.*,!=2.5.*,!=2.6.*,!=2.7.*,!=2.8.*,!=2.9.*,<3.0.0,>=1.34.1->google-cloud-speech) (2025.1.31)\n",
      "Downloading google_cloud_speech-2.31.1-py3-none-any.whl (332 kB)\n",
      "Installing collected packages: google-cloud-speech\n",
      "Successfully installed google-cloud-speech-2.31.1\n"
     ]
    }
   ],
   "source": [
    "!pip install google-cloud-speech\n"
   ]
  },
  {
   "cell_type": "code",
   "execution_count": 2,
   "id": "ff25c1d9-e72c-4c95-a511-3452b10e4ad2",
   "metadata": {},
   "outputs": [
    {
     "name": "stdout",
     "output_type": "stream",
     "text": [
      "Defaulting to user installation because normal site-packages is not writeable\n",
      "Collecting keyboard\n",
      "  Downloading keyboard-0.13.5-py3-none-any.whl.metadata (4.0 kB)\n",
      "Downloading keyboard-0.13.5-py3-none-any.whl (58 kB)\n",
      "Installing collected packages: keyboard\n",
      "Successfully installed keyboard-0.13.5\n"
     ]
    }
   ],
   "source": [
    "!pip install keyboard\n"
   ]
  },
  {
   "cell_type": "code",
   "execution_count": 2,
   "id": "0295be06-b6f2-4db4-9217-de6620d3a35d",
   "metadata": {},
   "outputs": [
    {
     "name": "stdout",
     "output_type": "stream",
     "text": [
      "Defaulting to user installation because normal site-packages is not writeable\n"
     ]
    },
    {
     "name": "stderr",
     "output_type": "stream",
     "text": [
      "ERROR: Could not find a version that satisfies the requirement playht (from versions: none)\n",
      "ERROR: No matching distribution found for playht\n"
     ]
    }
   ],
   "source": [
    "!pip install playht"
   ]
  },
  {
   "cell_type": "code",
   "execution_count": 4,
   "id": "b4c8359c-b38e-4968-8695-08c779941a85",
   "metadata": {},
   "outputs": [
    {
     "name": "stdout",
     "output_type": "stream",
     "text": [
      "Defaulting to user installation because normal site-packages is not writeable\n"
     ]
    },
    {
     "name": "stderr",
     "output_type": "stream",
     "text": [
      "ERROR: Could not find a version that satisfies the requirement playht (from versions: none)\n",
      "ERROR: No matching distribution found for playht\n"
     ]
    }
   ],
   "source": [
    "!pip install --upgrade playht"
   ]
  },
  {
   "cell_type": "code",
   "execution_count": 2,
   "id": "dd7b03b7-21ea-4321-93ae-31d1e40a2c44",
   "metadata": {},
   "outputs": [
    {
     "name": "stdout",
     "output_type": "stream",
     "text": [
      "Defaulting to user installation because normal site-packages is not writeable\n",
      "Requirement already satisfied: gtts in c:\\users\\adarsh kumar\\appdata\\roaming\\python\\python312\\site-packages (2.5.4)\n",
      "Requirement already satisfied: requests<3,>=2.27 in c:\\anaconda prompt\\lib\\site-packages (from gtts) (2.32.3)\n",
      "Requirement already satisfied: click<8.2,>=7.1 in c:\\anaconda prompt\\lib\\site-packages (from gtts) (8.1.7)\n",
      "Requirement already satisfied: colorama in c:\\anaconda prompt\\lib\\site-packages (from click<8.2,>=7.1->gtts) (0.4.6)\n",
      "Requirement already satisfied: charset-normalizer<4,>=2 in c:\\anaconda prompt\\lib\\site-packages (from requests<3,>=2.27->gtts) (3.3.2)\n",
      "Requirement already satisfied: idna<4,>=2.5 in c:\\anaconda prompt\\lib\\site-packages (from requests<3,>=2.27->gtts) (3.7)\n",
      "Requirement already satisfied: urllib3<3,>=1.21.1 in c:\\anaconda prompt\\lib\\site-packages (from requests<3,>=2.27->gtts) (2.2.3)\n",
      "Requirement already satisfied: certifi>=2017.4.17 in c:\\anaconda prompt\\lib\\site-packages (from requests<3,>=2.27->gtts) (2025.1.31)\n"
     ]
    }
   ],
   "source": [
    "!pip install gtts\n"
   ]
  },
  {
   "cell_type": "code",
   "execution_count": 4,
   "id": "13967e76-6651-437f-8f3b-faa07f20023a",
   "metadata": {},
   "outputs": [
    {
     "name": "stdout",
     "output_type": "stream",
     "text": [
      "Defaulting to user installation because normal site-packages is not writeable\n",
      "Collecting pdf2image\n",
      "  Downloading pdf2image-1.17.0-py3-none-any.whl.metadata (6.2 kB)\n",
      "Requirement already satisfied: pillow in c:\\anaconda prompt\\lib\\site-packages (from pdf2image) (10.4.0)\n",
      "Downloading pdf2image-1.17.0-py3-none-any.whl (11 kB)\n",
      "Installing collected packages: pdf2image\n",
      "Successfully installed pdf2image-1.17.0\n"
     ]
    }
   ],
   "source": [
    "!pip install pdf2image"
   ]
  },
  {
   "cell_type": "code",
   "execution_count": 6,
   "id": "709abf11-229b-4005-8f8d-a5fe5e2bb642",
   "metadata": {},
   "outputs": [
    {
     "name": "stdout",
     "output_type": "stream",
     "text": [
      "Defaulting to user installation because normal site-packages is not writeable\n",
      "Requirement already satisfied: google-generativeai in c:\\users\\adarsh kumar\\appdata\\roaming\\python\\python312\\site-packages (0.8.4)\n",
      "Requirement already satisfied: google-ai-generativelanguage==0.6.15 in c:\\users\\adarsh kumar\\appdata\\roaming\\python\\python312\\site-packages (from google-generativeai) (0.6.15)\n",
      "Requirement already satisfied: google-api-core in c:\\users\\adarsh kumar\\appdata\\roaming\\python\\python312\\site-packages (from google-generativeai) (2.24.1)\n",
      "Requirement already satisfied: google-api-python-client in c:\\users\\adarsh kumar\\appdata\\roaming\\python\\python312\\site-packages (from google-generativeai) (2.162.0)\n",
      "Requirement already satisfied: google-auth>=2.15.0 in c:\\users\\adarsh kumar\\appdata\\roaming\\python\\python312\\site-packages (from google-generativeai) (2.38.0)\n",
      "Requirement already satisfied: protobuf in c:\\users\\adarsh kumar\\appdata\\roaming\\python\\python312\\site-packages (from google-generativeai) (5.29.3)\n",
      "Requirement already satisfied: pydantic in c:\\anaconda prompt\\lib\\site-packages (from google-generativeai) (2.8.2)\n",
      "Requirement already satisfied: tqdm in c:\\anaconda prompt\\lib\\site-packages (from google-generativeai) (4.66.5)\n",
      "Requirement already satisfied: typing-extensions in c:\\anaconda prompt\\lib\\site-packages (from google-generativeai) (4.11.0)\n",
      "Requirement already satisfied: proto-plus<2.0.0dev,>=1.22.3 in c:\\users\\adarsh kumar\\appdata\\roaming\\python\\python312\\site-packages (from google-ai-generativelanguage==0.6.15->google-generativeai) (1.26.0)\n",
      "Requirement already satisfied: googleapis-common-protos<2.0.dev0,>=1.56.2 in c:\\users\\adarsh kumar\\appdata\\roaming\\python\\python312\\site-packages (from google-api-core->google-generativeai) (1.69.0)\n",
      "Requirement already satisfied: requests<3.0.0.dev0,>=2.18.0 in c:\\anaconda prompt\\lib\\site-packages (from google-api-core->google-generativeai) (2.32.3)\n",
      "Requirement already satisfied: cachetools<6.0,>=2.0.0 in c:\\anaconda prompt\\lib\\site-packages (from google-auth>=2.15.0->google-generativeai) (5.3.3)\n",
      "Requirement already satisfied: pyasn1-modules>=0.2.1 in c:\\anaconda prompt\\lib\\site-packages (from google-auth>=2.15.0->google-generativeai) (0.2.8)\n",
      "Requirement already satisfied: rsa<5,>=3.1.4 in c:\\users\\adarsh kumar\\appdata\\roaming\\python\\python312\\site-packages (from google-auth>=2.15.0->google-generativeai) (4.9)\n",
      "Requirement already satisfied: httplib2<1.dev0,>=0.19.0 in c:\\users\\adarsh kumar\\appdata\\roaming\\python\\python312\\site-packages (from google-api-python-client->google-generativeai) (0.22.0)\n",
      "Requirement already satisfied: google-auth-httplib2<1.0.0,>=0.2.0 in c:\\users\\adarsh kumar\\appdata\\roaming\\python\\python312\\site-packages (from google-api-python-client->google-generativeai) (0.2.0)\n",
      "Requirement already satisfied: uritemplate<5,>=3.0.1 in c:\\users\\adarsh kumar\\appdata\\roaming\\python\\python312\\site-packages (from google-api-python-client->google-generativeai) (4.1.1)\n",
      "Requirement already satisfied: annotated-types>=0.4.0 in c:\\anaconda prompt\\lib\\site-packages (from pydantic->google-generativeai) (0.6.0)\n",
      "Requirement already satisfied: pydantic-core==2.20.1 in c:\\anaconda prompt\\lib\\site-packages (from pydantic->google-generativeai) (2.20.1)\n",
      "Requirement already satisfied: colorama in c:\\anaconda prompt\\lib\\site-packages (from tqdm->google-generativeai) (0.4.6)\n",
      "Requirement already satisfied: grpcio<2.0dev,>=1.33.2 in c:\\users\\adarsh kumar\\appdata\\roaming\\python\\python312\\site-packages (from google-api-core[grpc]!=2.0.*,!=2.1.*,!=2.10.*,!=2.2.*,!=2.3.*,!=2.4.*,!=2.5.*,!=2.6.*,!=2.7.*,!=2.8.*,!=2.9.*,<3.0.0dev,>=1.34.1->google-ai-generativelanguage==0.6.15->google-generativeai) (1.70.0)\n",
      "Requirement already satisfied: grpcio-status<2.0.dev0,>=1.33.2 in c:\\users\\adarsh kumar\\appdata\\roaming\\python\\python312\\site-packages (from google-api-core[grpc]!=2.0.*,!=2.1.*,!=2.10.*,!=2.2.*,!=2.3.*,!=2.4.*,!=2.5.*,!=2.6.*,!=2.7.*,!=2.8.*,!=2.9.*,<3.0.0dev,>=1.34.1->google-ai-generativelanguage==0.6.15->google-generativeai) (1.70.0)\n",
      "Requirement already satisfied: pyparsing!=3.0.0,!=3.0.1,!=3.0.2,!=3.0.3,<4,>=2.4.2 in c:\\anaconda prompt\\lib\\site-packages (from httplib2<1.dev0,>=0.19.0->google-api-python-client->google-generativeai) (3.1.2)\n",
      "Requirement already satisfied: pyasn1<0.5.0,>=0.4.6 in c:\\anaconda prompt\\lib\\site-packages (from pyasn1-modules>=0.2.1->google-auth>=2.15.0->google-generativeai) (0.4.8)\n",
      "Requirement already satisfied: charset-normalizer<4,>=2 in c:\\anaconda prompt\\lib\\site-packages (from requests<3.0.0.dev0,>=2.18.0->google-api-core->google-generativeai) (3.3.2)\n",
      "Requirement already satisfied: idna<4,>=2.5 in c:\\anaconda prompt\\lib\\site-packages (from requests<3.0.0.dev0,>=2.18.0->google-api-core->google-generativeai) (3.7)\n",
      "Requirement already satisfied: urllib3<3,>=1.21.1 in c:\\anaconda prompt\\lib\\site-packages (from requests<3.0.0.dev0,>=2.18.0->google-api-core->google-generativeai) (2.2.3)\n",
      "Requirement already satisfied: certifi>=2017.4.17 in c:\\anaconda prompt\\lib\\site-packages (from requests<3.0.0.dev0,>=2.18.0->google-api-core->google-generativeai) (2025.1.31)\n"
     ]
    }
   ],
   "source": [
    "!pip install google-generativeai"
   ]
  },
  {
   "cell_type": "code",
   "execution_count": null,
   "id": "f9501537-2ffe-4256-a68f-afc312799f10",
   "metadata": {},
   "outputs": [],
   "source": []
  }
 ],
 "metadata": {
  "kernelspec": {
   "display_name": "Python [conda env:base] *",
   "language": "python",
   "name": "conda-base-py"
  },
  "language_info": {
   "codemirror_mode": {
    "name": "ipython",
    "version": 3
   },
   "file_extension": ".py",
   "mimetype": "text/x-python",
   "name": "python",
   "nbconvert_exporter": "python",
   "pygments_lexer": "ipython3",
   "version": "3.12.7"
  }
 },
 "nbformat": 4,
 "nbformat_minor": 5
}
